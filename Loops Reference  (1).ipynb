{
 "cells": [
  {
   "cell_type": "markdown",
   "metadata": {},
   "source": [
    "## What is for loop in Python?"
   ]
  },
  {
   "cell_type": "markdown",
   "metadata": {},
   "source": [
    "The for loop in Python is used to iterate over a sequence (list, tuple, string) or other iterable objects. Iterating over a sequence is called traversal."
   ]
  },
  {
   "cell_type": "code",
   "execution_count": 2,
   "metadata": {},
   "outputs": [
    {
     "name": "stdout",
     "output_type": "stream",
     "text": [
      "The sum is 61\n"
     ]
    }
   ],
   "source": [
    "# Program to find the sum of all numbers stored in a list\n",
    "\n",
    "# List of numbers\n",
    "numbers = [6, 5, 3, 8, 4, 2, 5, 4, 11, 1, 8, 4]\n",
    "\n",
    "# variable to store the sum\n",
    "sum = 0\n",
    "\n",
    "# iterate over the list\n",
    "for val in numbers:\n",
    "    sum = sum+val\n",
    "\n",
    "print(\"The sum is\", sum)"
   ]
  },
  {
   "cell_type": "code",
   "execution_count": 4,
   "metadata": {},
   "outputs": [
    {
     "name": "stdout",
     "output_type": "stream",
     "text": [
      "0\n",
      "1\n",
      "2\n",
      "3\n",
      "4\n"
     ]
    }
   ],
   "source": [
    "# Prints out the numbers 0,1,2,3,4\n",
    "for x in range(5):\n",
    "    print(x)"
   ]
  },
  {
   "cell_type": "code",
   "execution_count": 5,
   "metadata": {},
   "outputs": [
    {
     "name": "stdout",
     "output_type": "stream",
     "text": [
      "3\n",
      "4\n",
      "5\n"
     ]
    }
   ],
   "source": [
    "# Prints out 3,4,5\n",
    "for x in range(3, 6):\n",
    "    print(x)"
   ]
  },
  {
   "cell_type": "code",
   "execution_count": 6,
   "metadata": {},
   "outputs": [
    {
     "name": "stdout",
     "output_type": "stream",
     "text": [
      "3\n",
      "5\n",
      "7\n"
     ]
    }
   ],
   "source": [
    "# Prints out 3,5,7\n",
    "for x in range(3, 8, 2):\n",
    "    print(x)"
   ]
  },
  {
   "cell_type": "code",
   "execution_count": 8,
   "metadata": {},
   "outputs": [
    {
     "name": "stdout",
     "output_type": "stream",
     "text": [
      "0\n",
      "Datafolkz\n",
      "1\n",
      "Datafolkz\n",
      "2\n",
      "Datafolkz\n",
      "3\n",
      "Datafolkz\n",
      "4\n",
      "Datafolkz\n",
      "Out of the loop\n"
     ]
    }
   ],
   "source": [
    "#Printing Datafolkz 5 times\n",
    "for i in range(5):\n",
    "    print(i)              # Statement ( Loop for the IF Statement)\n",
    "    print('Datafolkz')\n",
    "    \n",
    "print('Out of the loop')  # out of loop "
   ]
  },
  {
   "cell_type": "code",
   "execution_count": 9,
   "metadata": {},
   "outputs": [
    {
     "name": "stdout",
     "output_type": "stream",
     "text": [
      "Data\n",
      "Folkz\n",
      "Python\n",
      "DataScience\n",
      "AI\n"
     ]
    }
   ],
   "source": [
    "any_list = [\"Data\", \"Folkz\", \"Python\", \"DataScience\", \"AI\"]\n",
    "\n",
    "for i in any_list:\n",
    "    print(i)"
   ]
  },
  {
   "cell_type": "markdown",
   "metadata": {},
   "source": [
    "### Intermediate Level Examples"
   ]
  },
  {
   "cell_type": "code",
   "execution_count": 14,
   "metadata": {},
   "outputs": [
    {
     "name": "stdout",
     "output_type": "stream",
     "text": [
      "3\n"
     ]
    }
   ],
   "source": [
    "#counting vowels in names\n",
    "Name='datafolkz'\n",
    "vowels=['a','e','i','o','u']       #Create a list of vowels\n",
    "count=0                            #setting count to 0\n",
    "for i in Name:                     #Iterating through the Name object\n",
    "    if i in vowels:                #Setting conditions\n",
    "        count=count+1              #Increasing count by 1 when condition became True\n",
    "print(count)\n",
    "        "
   ]
  },
  {
   "cell_type": "code",
   "execution_count": 16,
   "metadata": {},
   "outputs": [
    {
     "name": "stdout",
     "output_type": "stream",
     "text": [
      "175\n"
     ]
    }
   ],
   "source": [
    "#Difference between sum of all odd numbers and even numbers between 1 to 350\n",
    "Evensum=0   #setting even sum to 0\n",
    "Oddsum=0    #setting odd sum to 0\n",
    "for i in range(1,351):  #Interating through the numbers 1 to 350\n",
    "    if i%2==0:\n",
    "        Evensum=Evensum+i  #Summing up even numbers\n",
    "    else:\n",
    "        Oddsum=Oddsum+i    #Summing up odd numbers\n",
    "print(Evensum-Oddsum)      #printing difference"
   ]
  },
  {
   "cell_type": "code",
   "execution_count": 18,
   "metadata": {},
   "outputs": [
    {
     "name": "stdout",
     "output_type": "stream",
     "text": [
      "120\n"
     ]
    }
   ],
   "source": [
    "#Printing Factorial of a number using while loops\n",
    "n=5   #Number to find factorial \n",
    "x=1   #Initialising the result with 1\n",
    "while n>0: #Starting while loop\n",
    "    x=x*n  #multiplying 5 X 1 in first iteration, Will store x=5 .\n",
    "    n=n-1  #Reducing num, 5-1=4 in first iteration,we will be multiplying 5 X 4 in second iteration and so on\n",
    "print(x) "
   ]
  },
  {
   "cell_type": "code",
   "execution_count": 4,
   "metadata": {},
   "outputs": [
    {
     "name": "stdout",
     "output_type": "stream",
     "text": [
      "DataFolkz-Catapult your Career ! DataFolkz-Catapult your Career ! DataFolkz-Catapult your Career ! DataFolkz-Catapult your Career ! DataFolkz-Catapult your Career ! \n"
     ]
    }
   ],
   "source": [
    "#Writing a String multiple times\n",
    "def Multiple_times():\n",
    "    sen = [] #empty list to store the results\n",
    "    str = \"DataFolkz-Catapult your Career ! \"\n",
    "    for i in range(5):\n",
    "        sen.append(str)\n",
    "\n",
    "    return \"\".join(sen)\n",
    "\n",
    "\n",
    "print(Multiple_times())\n"
   ]
  },
  {
   "cell_type": "code",
   "execution_count": 11,
   "metadata": {},
   "outputs": [
    {
     "data": {
      "text/plain": [
       "[0, 1, 1, 2, 3, 5, 8, 13, 21, 34]"
      ]
     },
     "execution_count": 11,
     "metadata": {},
     "output_type": "execute_result"
    }
   ],
   "source": [
    "#To print fibonnaic series\n",
    "#Fibonacci Numbers are the numbers displayed in the sequence = 0, 1, 1, 2, 3, 5, 8, 13, 21, 34 …\n",
    "#First Value is 0, Second Value is 1, and the following number is the result of the sum of the previous two numbers. \n",
    "#For example, Third value is (0 + 1), Fourth value is (1 + 1) so on and so forth.\n",
    "\n",
    "def fibonnaic(n):\n",
    "    a=0             #first number\n",
    "    b=1             #second number\n",
    "    output=[]\n",
    "    for i in range(n):    #n number of iterations\n",
    "        output.append(a)\n",
    "        a,b=b,a+b         #updating values of a and b for second iteration\n",
    "    return output\n",
    "\n",
    "fibonnaic(10)"
   ]
  },
  {
   "cell_type": "markdown",
   "metadata": {},
   "source": [
    "### Advance Level Examples"
   ]
  },
  {
   "cell_type": "code",
   "execution_count": 17,
   "metadata": {},
   "outputs": [
    {
     "name": "stdout",
     "output_type": "stream",
     "text": [
      "1\n",
      "2\n",
      "Buzz\n",
      "4\n",
      "FizzBuzz\n",
      "Buzz\n",
      "7\n",
      "8\n",
      "Buzz\n",
      "FizzBuzz\n"
     ]
    }
   ],
   "source": [
    "#Fizz-Buzz Program\n",
    "#We have to display all numbers from 1 to n, but there are some conditions.\n",
    "#If the number is divisible by 3, write Fizz instead of the number\n",
    "#If the number is divisible by 5, write Buzz instead of the number\n",
    "#If the number is divisible by 3 and 5 both, write FizzBuzz instead of the number\n",
    "\n",
    "def FizzBuzz(n):\n",
    "    for i in range(1,n+1):\n",
    "        if i%3==0 and i%5==0:\n",
    "            print(\"Fizz\")\n",
    "            continue\n",
    "        elif i%3==0:\n",
    "            print(\"Buzz\")\n",
    "            continue\n",
    "        elif i%5==0:\n",
    "            print(\"FizzBuzz\")\n",
    "            continue\n",
    "        else:\n",
    "            print(i)\n",
    "FizzBuzz(10)        "
   ]
  },
  {
   "cell_type": "code",
   "execution_count": 19,
   "metadata": {},
   "outputs": [
    {
     "name": "stdout",
     "output_type": "stream",
     "text": [
      "['2000', '2002', '2004', '2006', '2008', '2020', '2022', '2024', '2026', '2028', '2040', '2042', '2044', '2046', '2048', '2060', '2062', '2064', '2066', '2068', '2080', '2082', '2084', '2086', '2088', '2200', '2202', '2204', '2206', '2208', '2220', '2222', '2224', '2226', '2228', '2240', '2242', '2244', '2246', '2248', '2260', '2262', '2264', '2266', '2268', '2280', '2282', '2284', '2286', '2288', '2400', '2402', '2404', '2406', '2408', '2420', '2422', '2424', '2426', '2428', '2440', '2442', '2444', '2446', '2448', '2460', '2462', '2464', '2466', '2468', '2480', '2482', '2484', '2486', '2488', '2600', '2602', '2604', '2606', '2608', '2620', '2622', '2624', '2626', '2628', '2640', '2642', '2644', '2646', '2648', '2660', '2662', '2664', '2666', '2668', '2680', '2682', '2684', '2686', '2688', '2800', '2802', '2804', '2806', '2808', '2820', '2822', '2824', '2826', '2828', '2840', '2842', '2844', '2846', '2848', '2860', '2862', '2864', '2866', '2868', '2880', '2882', '2884', '2886', '2888']\n"
     ]
    }
   ],
   "source": [
    "#Write a program, which will find all such numbers between 1000 and 3000 (both included)\n",
    "#such that each digit of the number is an even number.\n",
    "#The numbers obtained should be printed in a comma-separated sequence on a single line.\n",
    "\n",
    "items=[]\n",
    "for s in range(1000,3001):\n",
    "    i=str(s) #Storing each value as a string in object i.\n",
    "    if int(i[0])%2==0 and int(i[1])%2==0 and int(i[2])%2==0 and int(i[3])%2==0: #Iterating through each index and                                                                                    \n",
    "        items.append(i)                                                           #converting it back to integer\n",
    "print(items)"
   ]
  },
  {
   "cell_type": "code",
   "execution_count": 20,
   "metadata": {},
   "outputs": [],
   "source": [
    "#Creating a Calculator\n",
    "def add(x,y):     #Creating a function to add number\n",
    "    return(x+y)\n",
    "\n",
    "def Mul(x,y):     #Creating a function to Multiply number\n",
    "    return(x*y)\n",
    "\n",
    "def Sub(x,y):     #Creating a function to Subtract number\n",
    "    return(x-y)\n",
    "\n",
    "def Calculater(x,y,op):  #Creating a function to combine the functions\n",
    "    if op==add:\n",
    "        z=add(x,y)\n",
    "        return z\n",
    "    if op==Mul:\n",
    "        z=Mul(x,y)\n",
    "        return z\n",
    "    if op==Sub:\n",
    "        z=Sub(x,y)\n",
    "        return z\n",
    "    else:\n",
    "        print('Unsuported')"
   ]
  },
  {
   "cell_type": "code",
   "execution_count": 21,
   "metadata": {},
   "outputs": [
    {
     "data": {
      "text/plain": [
       "25"
      ]
     },
     "execution_count": 21,
     "metadata": {},
     "output_type": "execute_result"
    }
   ],
   "source": [
    "Calculater(5,5,Mul)"
   ]
  },
  {
   "cell_type": "code",
   "execution_count": 23,
   "metadata": {},
   "outputs": [
    {
     "name": "stdout",
     "output_type": "stream",
     "text": [
      "Maximal Number? 15\n",
      "3 4 5\n",
      "5 12 13\n",
      "6 8 10\n",
      "9 12 15\n"
     ]
    }
   ],
   "source": [
    "#Calculating Pythagoras Theorem\n",
    "from math import sqrt      #Importing sqrt function from math library\n",
    "n = int(input(\"Maximal Number? \"))  #Taking maximum number as input\n",
    "for a in range(1, n+1):  #Iterating through numbers from 1 to n\n",
    "    for b in range(a, n): #Iterating through numbers from a to n\n",
    "        c_square = a**2 + b**2 # Satisfying Pythagoras equation\n",
    "        c = int(sqrt(c_square))  # taking sqaure root\n",
    "        if ((c_square - c**2) == 0): # printing different combinations of numbers satisfying pythagoras equation\n",
    "            print(a, b, c)"
   ]
  },
  {
   "cell_type": "code",
   "execution_count": 6,
   "metadata": {},
   "outputs": [
    {
     "name": "stdout",
     "output_type": "stream",
     "text": [
      "Enter words seperated by spaces : DataFolkz Machine-Learning Artificial-Intelligence\n",
      "Enter length of words you want to filter : 12\n",
      "['Machine-Learning', 'Artificial-Intelligence']\n"
     ]
    }
   ],
   "source": [
    "#Write a function filter_long_words() that takes a list of words and \n",
    "#an integer n and returns the list of words that are longer than n.\n",
    "\n",
    "def filter_words():\n",
    "    words=input(\"Enter words seperated by spaces : \")   #Words to be entered by user\n",
    "    length=int(input(\"Enter length of words you want to filter : \")) #length of words to filter\n",
    "    mylist=words.split() #Split the words by spaces\n",
    "    words=[]  #Creating an empty list to store results\n",
    "    for i in mylist: \n",
    "        if len(i)>length:  \n",
    "            words.append(i)\n",
    "    print(words)\n",
    "    \n",
    "filter_words()"
   ]
  },
  {
   "cell_type": "code",
   "execution_count": null,
   "metadata": {},
   "outputs": [],
   "source": []
  }
 ],
 "metadata": {
  "kernelspec": {
   "display_name": "Python 3",
   "language": "python",
   "name": "python3"
  },
  "language_info": {
   "codemirror_mode": {
    "name": "ipython",
    "version": 3
   },
   "file_extension": ".py",
   "mimetype": "text/x-python",
   "name": "python",
   "nbconvert_exporter": "python",
   "pygments_lexer": "ipython3",
   "version": "3.8.3"
  }
 },
 "nbformat": 4,
 "nbformat_minor": 2
}
