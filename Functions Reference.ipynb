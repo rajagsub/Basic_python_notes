{
 "cells": [
  {
   "cell_type": "markdown",
   "metadata": {},
   "source": [
    "# FUNCTIONS"
   ]
  },
  {
   "cell_type": "markdown",
   "metadata": {},
   "source": [
    "* A function is a block of organized, reusable code that is used to perform a single, related action. Functions provide better modularity for your application and a high degree of code reusing.**\n",
    "\n",
    "* Functions help break our program into smaller and modular chunks. As our program grows larger and larger, functions make it more organized and manageable.**\n"
   ]
  },
  {
   "cell_type": "markdown",
   "metadata": {},
   "source": [
    "### Beginner Level Examples"
   ]
  },
  {
   "cell_type": "code",
   "execution_count": 2,
   "metadata": {},
   "outputs": [
    {
     "name": "stdout",
     "output_type": "stream",
     "text": [
      "Data Folkz\n"
     ]
    }
   ],
   "source": [
    "def name(name):\n",
    "    print(name + \" \" + \"Folkz\")\n",
    "\n",
    "#Calling a function\n",
    "name('Data')"
   ]
  },
  {
   "cell_type": "code",
   "execution_count": 3,
   "metadata": {},
   "outputs": [
    {
     "name": "stdout",
     "output_type": "stream",
     "text": [
      "6 + 8 = 14\n",
      "10 + 3 = 13\n"
     ]
    }
   ],
   "source": [
    "#Function to add two numbers\n",
    "#In the same way we can create Multiplication,Subtraction or any logical method\n",
    "def add(x, y):\n",
    "    result = x + y  #adding the input variables given by user and storing them to result object\n",
    "    print(x, \"+\", y ,\"=\", result)\n",
    "    \n",
    "x = 6\n",
    "y = 8\n",
    "add(x, y)\n",
    "\n",
    "#or you can directly give value of arguments\n",
    "add(10,3)"
   ]
  },
  {
   "cell_type": "code",
   "execution_count": 4,
   "metadata": {},
   "outputs": [
    {
     "name": "stdout",
     "output_type": "stream",
     "text": [
      "Number is Odd\n",
      "Number is Even\n"
     ]
    }
   ],
   "source": [
    "#Python function to check whether x is even or odd \n",
    "def CheckNumber(x): \n",
    "    if (x % 2 == 0):    #Checking for condition \n",
    "        print(\"Number is Even\")\n",
    "    else: \n",
    "        print(\"Number is Odd\")\n",
    "        \n",
    "CheckNumber(7) \n",
    "CheckNumber(22) "
   ]
  },
  {
   "cell_type": "markdown",
   "metadata": {},
   "source": [
    "### Intermediate Level Examples"
   ]
  },
  {
   "cell_type": "code",
   "execution_count": 5,
   "metadata": {},
   "outputs": [
    {
     "name": "stdout",
     "output_type": "stream",
     "text": [
      "         #\n",
      "        ##\n",
      "       ###\n",
      "      ####\n",
      "     #####\n",
      "    ######\n",
      "   #######\n",
      "  ########\n",
      " #########\n",
      "##########\n"
     ]
    }
   ],
   "source": [
    "#Drawing a staircase\n",
    "def staircase(n):\n",
    "    for i in range(1,n+1): #running i to n number of iterations\n",
    "        print(\" \"*(n-i)+i*(\"#\"))  #Printing \" \" in reducing num in each iteration with #\n",
    "        \n",
    "staircase(10)"
   ]
  },
  {
   "cell_type": "code",
   "execution_count": 13,
   "metadata": {},
   "outputs": [
    {
     "name": "stdout",
     "output_type": "stream",
     "text": [
      "The factors of 12 are:\n",
      "1\n",
      "2\n",
      "3\n",
      "4\n",
      "6\n",
      "12\n"
     ]
    }
   ],
   "source": [
    "# Python Program to find the factors of a number\n",
    "\n",
    "# This function computes the factor of the argument passed\n",
    "def print_factors(x):\n",
    "   print(\"The factors of\",x,\"are:\")\n",
    "   for i in range(1, x + 1):\n",
    "       if x % i == 0:\n",
    "           print(i)\n",
    "\n",
    "num = 12\n",
    "\n",
    "print_factors(num)"
   ]
  },
  {
   "cell_type": "code",
   "execution_count": 15,
   "metadata": {},
   "outputs": [
    {
     "name": "stdout",
     "output_type": "stream",
     "text": [
      "Factors of 12 are:\n",
      "1\n",
      "2\n",
      "3\n",
      "4\n",
      "6\n",
      "12\n"
     ]
    }
   ],
   "source": [
    "# Python Program to find the factors of a number\n",
    "\n",
    "def Factors(x):\n",
    "    print(\"Factors of\",x,\"are:\")\n",
    "    for i in range(1, x + 1):\n",
    "        if x%i==0:\n",
    "            print(i)\n",
    "            \n",
    "num = 12\n",
    "\n",
    "Factors(num)"
   ]
  },
  {
   "cell_type": "markdown",
   "metadata": {},
   "source": [
    "### Advance Level Examples"
   ]
  },
  {
   "cell_type": "code",
   "execution_count": 1,
   "metadata": {},
   "outputs": [
    {
     "name": "stdout",
     "output_type": "stream",
     "text": [
      "Enter words separated by space: DataFolkz Data Science \n",
      "The longest word among the list is:  DataFolkz\n"
     ]
    }
   ],
   "source": [
    "#Implement a function longestWord() that takes a list of words and returns the longest one\n",
    "\n",
    "def longestWord():\n",
    "    input_str=input(\"Enter words separated by space: \")   #Words to be input by user\n",
    "    mylist=input_str.split()   #split function to split the words\n",
    "    words_len = [len(words) for words in mylist]  #list comprehension,to store length of each word\n",
    "    longest_word = mylist[words_len.index(max(words_len))]  #will return the word with longest length\n",
    "    print('The longest word among the list is: ',longest_word)\n",
    "    \n",
    "longestWord()"
   ]
  },
  {
   "cell_type": "code",
   "execution_count": 12,
   "metadata": {},
   "outputs": [
    {
     "data": {
      "text/plain": [
       "'14:05:45'"
      ]
     },
     "execution_count": 12,
     "metadata": {},
     "output_type": "execute_result"
    }
   ],
   "source": [
    "#Converting time from 12 hour format to 24 hour format\n",
    "def timeConversion(s):\n",
    "    x=s.split(\":\")   #Splitting input time by :\n",
    "    if s[-2:]==\"PM\":    #Setting condition \n",
    "        if x[0] != \"12\":  #if first value of time not eaual to 12\n",
    "            x[0] = str(int(x[0])+12) #we will add\n",
    "    else:\n",
    "        if x[0] == \"12\":\n",
    "            x[0]=\"00\"\n",
    "            \n",
    "    ntime=\":\".join(x)\n",
    "    return str(ntime[:-2])       \n",
    "            \n",
    "y='02:05:45PM'\n",
    "timeConversion(y)"
   ]
  },
  {
   "cell_type": "code",
   "execution_count": 17,
   "metadata": {},
   "outputs": [
    {
     "name": "stdout",
     "output_type": "stream",
     "text": [
      "ac\n",
      "according\n",
      "accrodingly\n"
     ]
    }
   ],
   "source": [
    "#Python program to add 'ing' at the end of the given string (length of the string should be at least 3). \n",
    "#If given string already ends with 'ing,' then add 'ly' instead. \n",
    "#If string length of the given string is less than 3, leave it unchanged.\n",
    "\n",
    "def add_ing(string):\n",
    "    if len(string)>=3:  #Checking if length of string is grester than 3\n",
    "        if string[-3:]!=\"ing\":  #if string doesn't end with ing\n",
    "            string=string + \"ing\" #add ing at end\n",
    "        elif string[-3:]==\"ing\":  #if string ends with ing\n",
    "            string=string + \"ly\"  #add ly at the end\n",
    "        print(string)\n",
    "    else:\n",
    "        print(string)  \n",
    "\n",
    "add_ing('ac')        \n",
    "add_ing('accord')\n",
    "add_ing('accroding')"
   ]
  },
  {
   "cell_type": "code",
   "execution_count": null,
   "metadata": {},
   "outputs": [],
   "source": []
  }
 ],
 "metadata": {
  "kernelspec": {
   "display_name": "Python 3",
   "language": "python",
   "name": "python3"
  },
  "language_info": {
   "codemirror_mode": {
    "name": "ipython",
    "version": 3
   },
   "file_extension": ".py",
   "mimetype": "text/x-python",
   "name": "python",
   "nbconvert_exporter": "python",
   "pygments_lexer": "ipython3",
   "version": "3.7.4"
  }
 },
 "nbformat": 4,
 "nbformat_minor": 4
}
