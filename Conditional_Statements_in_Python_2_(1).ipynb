{
 "cells": [
  {
   "cell_type": "markdown",
   "metadata": {
    "id": "yDRc4HGyWbPQ"
   },
   "source": [
    "# Advanced Certification in AI\n",
    "## A Program by Datafolkz\n",
    "### Introduction to Python\n",
    "#### Conditions\n",
    "In this notebook we will look at Python's conditional constructs and block constructs"
   ]
  },
  {
   "cell_type": "markdown",
   "metadata": {
    "id": "cnh8i_yJWbPT"
   },
   "source": [
    "Python Conditions and If statements\n",
    "Python supports the usual logical conditions from mathematics:\n",
    "\n",
    "- Equals: a == b\n",
    "- Not Equals: a != b\n",
    "- Less than: a < b\n",
    "- Less than or equal to: a <= b\n",
    "- Greater than: a > b\n",
    "- Greater than or equal to: a >= b\n",
    "- These conditions can be used in several ways, most commonly in \"if statements\" and loops.\n",
    "\n",
    "An \"if statement\" is written by using the if keyword."
   ]
  },
  {
   "cell_type": "markdown",
   "metadata": {
    "id": "iTRI4SN8WbPV"
   },
   "source": [
    "# Python if ... else Statement"
   ]
  },
  {
   "cell_type": "markdown",
   "metadata": {
    "id": "IsB-TkYEWbPX"
   },
   "source": [
    "The **if…elif…else** statement is used in Python for decision making."
   ]
  },
  {
   "cell_type": "markdown",
   "metadata": {
    "id": "XewTMmFPWbPY"
   },
   "source": [
    "# if statement syntax"
   ]
  },
  {
   "cell_type": "markdown",
   "metadata": {
    "id": "LOJnYimrWbPb"
   },
   "source": [
    "    if test expression:\n",
    "\n",
    "        statement(s)"
   ]
  },
  {
   "cell_type": "markdown",
   "metadata": {
    "id": "F4XHlSeUWbPd"
   },
   "source": [
    "The program evaluates the test expression and will execute statement(s) only if the text expression is ` True.`\n",
    "\n",
    "If the text expression is `False, the statement(s) is not executed.`"
   ]
  },
  {
   "cell_type": "markdown",
   "metadata": {
    "id": "ZLcnZl0SWbPf"
   },
   "source": [
    "- `Python interprets non-zero values as True. None and 0 are interpreted as False.`"
   ]
  },
  {
   "cell_type": "markdown",
   "metadata": {
    "id": "4hRSZXgDWbPh"
   },
   "source": [
    "if condition:\n",
    "\n",
    "    statement\n",
    "    \n",
    "else:\n",
    "\n",
    "    statement\n",
    "\n",
    "### Important Points to be noted\n",
    "- Colon\n",
    "- Indentation"
   ]
  },
  {
   "cell_type": "markdown",
   "metadata": {
    "id": "rewh83RNWbPi"
   },
   "source": [
    "# Flow Chart"
   ]
  },
  {
   "cell_type": "markdown",
   "metadata": {
    "id": "L3D9jbQBWbPk"
   },
   "source": [
    "![image.png](attachment:image.png)"
   ]
  },
  {
   "cell_type": "markdown",
   "metadata": {
    "id": "heXSuLdmWbPl"
   },
   "source": [
    "### If Statements"
   ]
  },
  {
   "cell_type": "code",
   "execution_count": null,
   "metadata": {
    "id": "JZ9vjUJVWbPn",
    "outputId": "b9f0479e-6515-448c-ccd0-36bfe8fec657"
   },
   "outputs": [
    {
     "name": "stdout",
     "output_type": "stream",
     "text": [
      "a is less than b\n"
     ]
    }
   ],
   "source": [
    "a = 8\n",
    "b = 10\n",
    "if a < b: # Condition\n",
    "    print(\"a is less than b\") # Statement"
   ]
  },
  {
   "cell_type": "code",
   "execution_count": null,
   "metadata": {
    "id": "oakf6suqWbPz",
    "outputId": "881f8f9b-8086-4b8f-bb35-1702ab069dc6"
   },
   "outputs": [
    {
     "name": "stdout",
     "output_type": "stream",
     "text": [
      "My name is Aravind\n"
     ]
    }
   ],
   "source": [
    "name = \"Aravind\"\n",
    "if name == \"Aravind\": \n",
    "    print(\"My name is Aravind\")"
   ]
  },
  {
   "cell_type": "code",
   "execution_count": null,
   "metadata": {
    "id": "gTN-t_x8WbP7"
   },
   "outputs": [],
   "source": [
    "name = \"Aravind\"\n",
    "if name == \"Arvind\": \n",
    "    print(\"My name is Aravind\")"
   ]
  },
  {
   "cell_type": "markdown",
   "metadata": {
    "id": "pMlX1O-qWbQC"
   },
   "source": [
    "### Else "
   ]
  },
  {
   "cell_type": "code",
   "execution_count": null,
   "metadata": {
    "id": "101JgS97WbQE",
    "outputId": "46759606-fc26-41b8-9c8b-0d2a9d74e050"
   },
   "outputs": [
    {
     "name": "stdout",
     "output_type": "stream",
     "text": [
      "This is not Aravind\n"
     ]
    }
   ],
   "source": [
    "name = \"Aravind\"\n",
    "if name == \"Arvind\": \n",
    "    print(\"My name is Aravind\")\n",
    "else:\n",
    "    print(\"This is not Aravind\")\n"
   ]
  },
  {
   "cell_type": "markdown",
   "metadata": {
    "id": "k0xMAkhIWbQM"
   },
   "source": [
    "#### Simple Conditions and blocks"
   ]
  },
  {
   "cell_type": "code",
   "execution_count": null,
   "metadata": {
    "id": "qBX1KA4iWbQN",
    "outputId": "e28a407c-3281-4ca1-d882-05e30d6848ec"
   },
   "outputs": [
    {
     "name": "stdout",
     "output_type": "stream",
     "text": [
      "Attendance requirement for Merit certificate not met\n",
      "Partcipation Certificate only\n"
     ]
    }
   ],
   "source": [
    "attendancePercentage = 70\n",
    "# In the code below the two print statements are one block. \n",
    "# They are indented by 4-spaces to conPythonvey that\n",
    "if attendancePercentage < 75:\n",
    "    print(\"Attendance requirement for Merit certificate not met\")\n",
    "    print(\"Partcipation Certificate only\")"
   ]
  },
  {
   "cell_type": "code",
   "execution_count": null,
   "metadata": {
    "id": "nDMpHDKoWbQT"
   },
   "outputs": [],
   "source": [
    "attendancePercentage = 80\n",
    "# In the code below the two print statements are one block. \n",
    "# They are indented by 4-spaces to convey that\n",
    "if attendancePercentage < 75:\n",
    "    print(\"Attendance requirement for Merit certificate not met\")\n",
    "    print(\"Partcipation Certificate only\")"
   ]
  },
  {
   "cell_type": "markdown",
   "metadata": {
    "id": "_6TAGGZjWbQY"
   },
   "source": [
    "As you can see there is no output if the condition is not met"
   ]
  },
  {
   "cell_type": "markdown",
   "metadata": {
    "id": "ZIcFvEjtWbQZ"
   },
   "source": [
    "##### Else Statement"
   ]
  },
  {
   "cell_type": "code",
   "execution_count": null,
   "metadata": {
    "id": "3gAlxDkUWbQa",
    "outputId": "9a67c4a9-d04c-48e7-8689-e2f72ee81e33"
   },
   "outputs": [
    {
     "name": "stdout",
     "output_type": "stream",
     "text": [
      "Attendance requirement for Merit certificate met\n",
      "Verify grades\n"
     ]
    }
   ],
   "source": [
    "attendancePercentage = 80\n",
    "\n",
    "if attendancePercentage < 75:\n",
    "    print(\"Attendance requirement for Merit certificate not met\")\n",
    "    print(\"Partcipation Certificate only\")\n",
    "else:\n",
    "    print(\"Attendance requirement for Merit certificate met\")\n",
    "    print(\"Verify grades\")"
   ]
  },
  {
   "cell_type": "markdown",
   "metadata": {
    "id": "KzAClxz_WbQh"
   },
   "source": [
    "##### Else if ladder"
   ]
  },
  {
   "cell_type": "code",
   "execution_count": null,
   "metadata": {
    "id": "_dotnsveWbQi",
    "outputId": "b2215e6b-fc4f-4e68-b80d-1e220e08bf3d"
   },
   "outputs": [
    {
     "name": "stdout",
     "output_type": "stream",
     "text": [
      "Attendance requirement for Merit certificate met\n",
      "Grade Requirement for Merit Certificate met\n"
     ]
    }
   ],
   "source": [
    "attendancePercentage = 80\n",
    "gradePoints = 320\n",
    "if attendancePercentage < 75:\n",
    "    print(\"Attendance requirement for Merit certificate not met\")\n",
    "    print(\"Participation Certificate only\")\n",
    "elif gradePoints < 300:\n",
    "    print(\"Attendance requirement for Merit certificate met\")\n",
    "    print(\"But insufficient grade\")\n",
    "    print(\"Participation Certificate only\")\n",
    "else:\n",
    "    print(\"Attendance requirement for Merit certificate met\")\n",
    "    print(\"Grade Requirement for Merit Certificate met\")"
   ]
  },
  {
   "cell_type": "markdown",
   "metadata": {
    "id": "o7eeNtCIWbQn"
   },
   "source": [
    "### Using if else in Lists"
   ]
  },
  {
   "cell_type": "code",
   "execution_count": null,
   "metadata": {
    "id": "xoXCRxieWbQo"
   },
   "outputs": [],
   "source": [
    "list1 = ['a','b','c']\n",
    "list2 = ['abc', 'def', 'd', 'hello']"
   ]
  },
  {
   "cell_type": "markdown",
   "metadata": {
    "id": "Qy9nqAqXWbQt"
   },
   "source": [
    "### Using Membership Test\n",
    "\n",
    "-  `in and not in `"
   ]
  },
  {
   "cell_type": "code",
   "execution_count": null,
   "metadata": {
    "id": "aul2PkQeWbQu",
    "outputId": "15127218-9591-412f-ac1a-193a13adcc9e"
   },
   "outputs": [
    {
     "name": "stdout",
     "output_type": "stream",
     "text": [
      "great\n"
     ]
    }
   ],
   "source": [
    "if 'c' in list1:\n",
    "    print(\"great\")\n",
    "else: \n",
    "    print(\"inside else\")"
   ]
  },
  {
   "cell_type": "code",
   "execution_count": null,
   "metadata": {
    "id": "KIc2dllmWbQ0",
    "outputId": "c36eee43-704c-4795-aec7-6f0516f29733"
   },
   "outputs": [
    {
     "name": "stdout",
     "output_type": "stream",
     "text": [
      "inside else\n"
     ]
    }
   ],
   "source": [
    "if 'c' not in list1:\n",
    "    print(\"great\")\n",
    "else: \n",
    "    print(\"inside else\")"
   ]
  },
  {
   "cell_type": "markdown",
   "metadata": {
    "id": "HBakiMYpWbQ6"
   },
   "source": [
    "#### Simple While loop"
   ]
  },
  {
   "cell_type": "code",
   "execution_count": null,
   "metadata": {
    "id": "dSodfuiTWbQ7",
    "outputId": "2f053ce4-624a-4c5f-a0c2-383b2761e88f"
   },
   "outputs": [
    {
     "name": "stdout",
     "output_type": "stream",
     "text": [
      "0\n",
      "1\n",
      "2\n",
      "3\n",
      "4\n"
     ]
    }
   ],
   "source": [
    "#Lets write a while loop to print numbers from 0 to 4 \n",
    "x = 0\n",
    "while x < 5:\n",
    "     print(x)\n",
    "     x += 1"
   ]
  },
  {
   "cell_type": "markdown",
   "metadata": {
    "id": "GHWO3wx8WbRA"
   },
   "source": [
    "#### Combining conditions\n",
    "We can combine conditions using **and**, **or** and **not** operators"
   ]
  },
  {
   "cell_type": "code",
   "execution_count": null,
   "metadata": {
    "id": "YAhpXIY5WbRB",
    "outputId": "16cdc55b-581a-4018-9922-fda241516ecd"
   },
   "outputs": [
    {
     "name": "stdout",
     "output_type": "stream",
     "text": [
      "Either attendance of grade (or both) insufficient\n",
      "Participation certificate only\n"
     ]
    }
   ],
   "source": [
    "attendancePercentage = 80\n",
    "gradePoints = 290\n",
    "if attendancePercentage >= 75 and gradePoints >= 300:\n",
    "    print(\"Attendance and grade requirement for Merit certificate met\")\n",
    "else: \n",
    "    print(\"Either attendance of grade (or both) insufficient\")\n",
    "    print(\"Participation certificate only\")"
   ]
  },
  {
   "cell_type": "markdown",
   "metadata": {
    "id": "yWPKlMvxWbRG"
   },
   "source": [
    "##### More on blocks\n",
    "* blocks start below a line ending in :\n",
    "* all lines in a block are indented (by 4 spaces)\n",
    "* Nested blocks --> nested indenting\n",
    "* End of block --> unindent\n"
   ]
  },
  {
   "cell_type": "code",
   "execution_count": null,
   "metadata": {
    "id": "mde00MDsWbRH"
   },
   "outputs": [],
   "source": [
    "mark = 76\n",
    "if mark < 40:\n",
    "    status = \"Fail\"\n",
    "    letterGrade = \"F\"\n",
    "else:\n",
    "    status = \"Pass\"\n",
    "    if mark < 50:\n",
    "        letterGrade = \"D\"\n",
    "    elif mark < 60:\n",
    "        letterGrade = \"C\"\n",
    "    elif mark < 75:\n",
    "        letterGrade = \"B\"\n",
    "    elif mark < 90:\n",
    "        letterGrade = \"A\"\n",
    "    else:\n",
    "        letterGrade = \"A+\""
   ]
  },
  {
   "cell_type": "markdown",
   "metadata": {
    "id": "g6lUevAbWbRM"
   },
   "source": [
    "# Nested if Statements"
   ]
  },
  {
   "cell_type": "code",
   "execution_count": null,
   "metadata": {
    "id": "j_TF6rIPWbRN",
    "outputId": "a815db1b-f928-43a6-99c5-9e967a794b7a"
   },
   "outputs": [
    {
     "name": "stdout",
     "output_type": "stream",
     "text": [
      "Enter a number-25\n",
      "Negative Number\n"
     ]
    }
   ],
   "source": [
    "num = int(input(\"Enter a number\"))\n",
    "\n",
    "if num >= 0:\n",
    "    \n",
    "    if num == 0:\n",
    "        print(\"Zero\")\n",
    "    else:\n",
    "        print(\"Positive number\")\n",
    "else:\n",
    "    print(\"Negative Number\")"
   ]
  },
  {
   "cell_type": "code",
   "execution_count": null,
   "metadata": {
    "id": "PAppfqJLWbRS",
    "outputId": "b175aaea-1b92-45c3-d43d-77033683c1d8"
   },
   "outputs": [
    {
     "name": "stdout",
     "output_type": "stream",
     "text": [
      "Enter player type = batmen\n",
      "Enter number of Hundreds: 20\n",
      "Enter City = Hyderabad\n",
      "We need a batsmen\n"
     ]
    }
   ],
   "source": [
    "location = [\"Hyderabad\",\"Bengaluru\",\"Mumbai\"]\n",
    "player_type = input(\"Enter player type = \")\n",
    "No_of_Hundreds = int(input(\"Enter number of Hundreds: \"))\n",
    "Player_Location = input(\"Enter City = \")\n",
    "\n",
    "if Player_Location in location:\n",
    "    if player_type.lower() == \"batsmen\":\n",
    "        if No_of_Hundreds >= 5:\n",
    "            print(\"In the Squad\")\n",
    "        else:\n",
    "            print(\"Not Selected\")\n",
    "    else:\n",
    "        print(\"We need a batsmen\")\n",
    "            \n",
    "else:\n",
    "    print(\"Location not in list\")"
   ]
  },
  {
   "cell_type": "markdown",
   "metadata": {
    "id": "3GDtfiehWbRX"
   },
   "source": [
    "# if...elif...else Statement\n",
    "- We can have a if...elif...else statement inside another if...elif...else statement. This is called nesting in computer programming."
   ]
  },
  {
   "cell_type": "markdown",
   "metadata": {
    "id": "lGt_uN83WbRY"
   },
   "source": [
    "# Syntax:"
   ]
  },
  {
   "cell_type": "markdown",
   "metadata": {
    "id": "ZJTHaSHAWbRZ"
   },
   "source": [
    "    if test expression:\n",
    "    \n",
    "        Body of if statement\n",
    "        \n",
    "    elif test expression:\n",
    "    \n",
    "        Body of elif statement\n",
    "        \n",
    "    else: \n",
    "    \n",
    "        Body of else statement"
   ]
  },
  {
   "cell_type": "markdown",
   "metadata": {
    "id": "8R9cHBLEWbRa"
   },
   "source": [
    "# Flow Chart"
   ]
  },
  {
   "cell_type": "markdown",
   "metadata": {
    "id": "AtlQhAm4WbRb"
   },
   "source": [
    "![image.png](attachment:image.png)"
   ]
  },
  {
   "cell_type": "markdown",
   "metadata": {
    "id": "d20sLrM3WbRc"
   },
   "source": [
    "# Example:"
   ]
  },
  {
   "cell_type": "code",
   "execution_count": null,
   "metadata": {
    "id": "UgSkJIY4WbRd",
    "outputId": "01769085-87d0-435d-a6e5-21b4be23906e"
   },
   "outputs": [
    {
     "name": "stdout",
     "output_type": "stream",
     "text": [
      "Enter a Number: 20\n",
      "Positive number\n"
     ]
    }
   ],
   "source": [
    "num = int(input(\"Enter a Number: \"))\n",
    "\n",
    "if num > 0:\n",
    "    print(\"Positive number\")\n",
    "elif num == 0:\n",
    "    print(\"ZERO\")\n",
    "else:\n",
    "    print(\"Negative Number\")"
   ]
  },
  {
   "cell_type": "markdown",
   "metadata": {
    "id": "6QkysAljWbRi"
   },
   "source": [
    "**Write a program to find the grade of a person**"
   ]
  },
  {
   "cell_type": "code",
   "execution_count": null,
   "metadata": {
    "id": "Jq6RlbBvWbRj",
    "outputId": "994efb63-d5b1-48db-ecec-08a7e3d9e93e"
   },
   "outputs": [
    {
     "name": "stdout",
     "output_type": "stream",
     "text": [
      "Enter your marks: 21\n",
      "Your Grade is: F \n"
     ]
    }
   ],
   "source": [
    "marks=int(input(\"Enter your marks: \"))\n",
    "if marks>=90:\n",
    "    print(\"Your Grade is: A\")\n",
    "    \n",
    "elif marks>=80 and marks<89:\n",
    "    print(\"Your Grade is: B\")\n",
    "    \n",
    "elif marks>=70 and marks<79:\n",
    "    print(\"Your Grade is: C\")\n",
    "    \n",
    "elif marks>=60 and marks<69:\n",
    "    print(\"Your Grade is: D\")\n",
    "    \n",
    "else:\n",
    "    print(\"Your Grade is: F \")"
   ]
  },
  {
   "cell_type": "markdown",
   "metadata": {
    "id": "vz4TwF7SWbRo"
   },
   "source": [
    "#### **Create a dictionary with keys which are username and values with their password and name with creditials**"
   ]
  },
  {
   "cell_type": "markdown",
   "metadata": {
    "id": "60IwWhFbWbRp"
   },
   "source": [
    "\n",
    "> eg: `{'Sri':'sri123','ram':'ram123','Rakesh':'rakesh123',\n",
    "'Akshay':'aks123','Chandrashekar':'cha123','Padma':'pad123'}`\n",
    "\n",
    "*Ask user to enter his username and password*\n",
    "- if username and password matches with creditials then print welcome\n",
    "> eg: > username: sri and password: sri123 \n",
    "\n",
    "'Hello Sri welcome to lets start cricket'\n",
    "\n",
    "if username or password is wrong then ask for the signup and then get update the credentials in the database"
   ]
  },
  {
   "cell_type": "code",
   "execution_count": null,
   "metadata": {
    "id": "hdsu3BvBWbRp"
   },
   "outputs": [],
   "source": [
    "credentials= {'Rohith':'rohith123',\n",
    "             'Virat':'virat123',\n",
    "             'Sharma':'sharma123',\n",
    "             'Kohli':'kohli123',\n",
    "             'Dhoni':'dhoni123', \n",
    "             'Yuvi' : 'yuvi123'}"
   ]
  },
  {
   "cell_type": "code",
   "execution_count": null,
   "metadata": {
    "colab": {
     "base_uri": "https://localhost:8080/",
     "height": 50
    },
    "id": "KK0MgHr0WbRu",
    "outputId": "99fb1a85-e10d-47f8-9a4c-aabb6647f602"
   },
   "outputs": [
    {
     "data": {
      "text/plain": [
       "(dict_keys(['Rohith', 'Virat', 'Sharma', 'Kohli', 'Dhoni', 'Yuvi']),\n",
       " dict_values(['rohith123', 'virat123', 'sharma123', 'kohli123', 'dhoni123', 'yuvi123']))"
      ]
     },
     "execution_count": 2,
     "metadata": {
      "tags": []
     },
     "output_type": "execute_result"
    }
   ],
   "source": [
    "credentials.keys(),credentials.values()"
   ]
  },
  {
   "cell_type": "code",
   "execution_count": null,
   "metadata": {
    "colab": {
     "base_uri": "https://localhost:8080/",
     "height": 151
    },
    "id": "YU4eSFYwWbR0",
    "outputId": "1c84513e-8e62-466f-b188-74573c3a5ada"
   },
   "outputs": [
    {
     "name": "stdout",
     "output_type": "stream",
     "text": [
      "Please Enter your username: Aravind\n",
      "Please Enter you password: 100000\n",
      "username is not in database\n",
      "Would you like to sign up: y/n: y\n",
      "Enter your New username: niharika\n",
      "Enter you New password: 100000\n",
      "Added Successfully\n",
      "{'Rohith': 'rohith123', 'Virat': 'virat123', 'Sharma': 'sharma123', 'Kohli': 'kohli123', 'Dhoni': 'dhoni123', 'Yuvi': 'yuvi123', 'niharika': '100000'}\n"
     ]
    }
   ],
   "source": [
    "username = input('Please Enter your username: ')\n",
    "password = input('Please Enter you password: ')\n",
    "\n",
    "if username not in credentials.keys():\n",
    "        print('username is not in database')\n",
    "        ask = input('Would you like to sign up: y/n: ')\n",
    "        if ask.lower() == 'y':\n",
    "            username = input('Enter your New username: ')\n",
    "            password = input('Enter you New password: ')\n",
    "            \n",
    "            credentials.update({username:password})\n",
    "            print(\"Added Successfully\")\n",
    "            print(credentials)\n",
    "        else:\n",
    "            print('Thank you !!!')\n",
    "\n",
    "elif credentials[username] == password:\n",
    "    print('Hello {} welcome, Lets start the game !!!'.format(username))\n",
    "    # nested if condition (or nested statements)\n",
    "else:\n",
    "    print('Username or password is wrong')"
   ]
  },
  {
   "cell_type": "markdown",
   "metadata": {
    "id": "pdpHMhbJWbR4"
   },
   "source": [
    "## More Examples"
   ]
  },
  {
   "cell_type": "markdown",
   "metadata": {
    "id": "6vqgCd8XWbR5"
   },
   "source": [
    ">  \n",
    "  1. write a program to read 3 numbers and check which number is greater"
   ]
  },
  {
   "cell_type": "code",
   "execution_count": null,
   "metadata": {
    "id": "cXLCLAciWbR6",
    "outputId": "703f606b-92b4-4270-ab9d-b469a33ec50b"
   },
   "outputs": [
    {
     "name": "stdout",
     "output_type": "stream",
     "text": [
      "Enter first number: 56\n",
      "Enter second number: 87\n",
      "Enter third number: 34\n",
      "The second number is greater\n"
     ]
    }
   ],
   "source": [
    "num1= int(input(\"Enter first number: \"))\n",
    "num2= int(input(\"Enter second number: \"))\n",
    "num3= int(input(\"Enter third number: \"))\n",
    "if num1>num2 and num1>num3:\n",
    "    print(\"The first number is greater\")\n",
    "    if num1==num2 or num1==num3:\n",
    "        print(\"The entered numbers are equal. Please enter the numbers again\")\n",
    "elif num2>num3 and num2>num1:\n",
    "    print(\"The second number is greater\")\n",
    "    if num2==num1 or num2==num3:\n",
    "        print(\"The entered numbers are equal. Please enter the numbers again\")\n",
    "elif num3>num1 and num3>num2:\n",
    "    print(\"The third number is greater\")\n",
    "    if num3==num1 or num3==num2:\n",
    "        print(\"The entered numbers are equal. Please enter the numbers again\")\n",
    "else:\n",
    "    print(\"All the numbers are equal\")"
   ]
  },
  {
   "cell_type": "markdown",
   "metadata": {
    "id": "j7R7ixgIWbR-"
   },
   "source": [
    "2. write a program, that user will enter the two numbers and your program need to tell which number is greater   and if both are equal print both are equal"
   ]
  },
  {
   "cell_type": "code",
   "execution_count": null,
   "metadata": {
    "id": "Lom7N_1xWbR_"
   },
   "outputs": [],
   "source": [
    "n1=int(input(\"Enter the first number: \")); \n",
    "n2=int(input(\"Enter the second number: \"))\n",
    "if n1>n2:\n",
    "    print(\"The first number is greater\")\n",
    "elif n2>n1:\n",
    "    print(\"The second number is greater\")\n",
    "else:\n",
    "    print(\"The numbers are equal\")"
   ]
  },
  {
   "cell_type": "markdown",
   "metadata": {
    "id": "jIfF8OOuWbSC"
   },
   "source": [
    "### Python program to find the largest element among three Numbers"
   ]
  },
  {
   "cell_type": "code",
   "execution_count": null,
   "metadata": {
    "id": "fMqjRB4nWbSD",
    "outputId": "60df5b68-aff8-4dfe-8b7a-7372cce6fa6e"
   },
   "outputs": [
    {
     "name": "stdout",
     "output_type": "stream",
     "text": [
      "Enter the first number: 45\n",
      "Enter the second number: 55\n",
      "Enter the third number: 65\n",
      "Largest element among three numbers is: 65\n"
     ]
    }
   ],
   "source": [
    "num1 = int(input(\"Enter the first number: \"))\n",
    "num2 = int(input(\"Enter the second number: \"))\n",
    "num3 = int(input(\"Enter the third number: \"))\n",
    "\n",
    "if (num1 >= num2) and (num1 >= num3):           #logical operator   and\n",
    "    largest = num1\n",
    "elif (num2 >= num1) and (num2 >= num3):\n",
    "    largest = num2\n",
    "else:\n",
    "    largest = num3\n",
    "print(\"Largest element among three numbers is: {}\".format(largest))"
   ]
  },
  {
   "cell_type": "markdown",
   "metadata": {
    "id": "cThqJcjjWbSH"
   },
   "source": [
    "## For Loop"
   ]
  },
  {
   "cell_type": "markdown",
   "metadata": {
    "id": "Vfk-45TWWbSI"
   },
   "source": [
    "The for loop in Python is used to iterate over a sequence (list, tuple, string) or other iterable objects. \n",
    "    \n",
    "Iterating over a sequence is called traversal."
   ]
  },
  {
   "cell_type": "markdown",
   "metadata": {
    "id": "Rm5EP3O0WbSJ"
   },
   "source": [
    "# Syntax:"
   ]
  },
  {
   "cell_type": "markdown",
   "metadata": {
    "id": "zx79NaTmWbSJ"
   },
   "source": [
    "    for element in sequence :\n",
    "\n",
    "        Body of for Loop"
   ]
  },
  {
   "cell_type": "markdown",
   "metadata": {
    "id": "a4T7feDVWbSK"
   },
   "source": [
    "- Here, element is the variable that takes the value of the item inside the sequence on each iteration.\n",
    "\n",
    "- Loop continues until we reach the last item in the sequence."
   ]
  },
  {
   "cell_type": "markdown",
   "metadata": {
    "id": "A8A9sKrhWbSK"
   },
   "source": [
    "## Flow Chart"
   ]
  },
  {
   "cell_type": "markdown",
   "metadata": {
    "id": "zE149X7mWbSL"
   },
   "source": [
    "![image.png](attachment:image.png)"
   ]
  },
  {
   "cell_type": "markdown",
   "metadata": {
    "id": "gKlKuf7vWbSL"
   },
   "source": [
    "## Create a List from 0 to 100\n",
    "\n",
    "- Range() Function\n",
    "\n",
    "\n",
    "\n",
    "- We can generate a sequence of numbers using range() function. range(10) will generate numbers from 0 to 9 (10 numbers).\n",
    "\n",
    "- We can also define the start, stop and step size as **range(start,stop,step size)**. step size defaults to 1 if not provided.\n",
    "\n",
    "- This function does not store all the values in memory, it would be inefficient. So it remembers the start, stop, step size and generates the next number on the go."
   ]
  },
  {
   "cell_type": "code",
   "execution_count": null,
   "metadata": {
    "id": "t95MUWBKWbSM",
    "outputId": "ea1428de-20d7-4c73-a20e-70185b955a48"
   },
   "outputs": [
    {
     "data": {
      "text/plain": [
       "range(0, 10)"
      ]
     },
     "execution_count": 6,
     "metadata": {
      "tags": []
     },
     "output_type": "execute_result"
    }
   ],
   "source": [
    "#Its just return a python Object \n",
    "range(10) "
   ]
  },
  {
   "cell_type": "code",
   "execution_count": null,
   "metadata": {
    "id": "7bTm7EXDWbSP",
    "outputId": "e43defe2-ab3b-4e41-ccf7-e578c75a56e0"
   },
   "outputs": [
    {
     "data": {
      "text/plain": [
       "[0, 1, 2, 3, 4, 5, 6, 7, 8, 9]"
      ]
     },
     "execution_count": 7,
     "metadata": {
      "tags": []
     },
     "output_type": "execute_result"
    }
   ],
   "source": [
    "#Converting into List\n",
    "list(range(10))"
   ]
  },
  {
   "cell_type": "code",
   "execution_count": null,
   "metadata": {
    "id": "AuljuKE3WbSS",
    "outputId": "02486333-51c8-4b15-b422-391711b89157"
   },
   "outputs": [
    {
     "data": {
      "text/plain": [
       "[400, 410, 420, 430, 440, 450, 460, 470, 480, 490]"
      ]
     },
     "execution_count": 8,
     "metadata": {
      "tags": []
     },
     "output_type": "execute_result"
    }
   ],
   "source": [
    "#print range of numbers from 400 to 500 with step size of 10\n",
    "list1 =list(range(400,500,10))\n",
    "list1"
   ]
  },
  {
   "cell_type": "code",
   "execution_count": null,
   "metadata": {
    "id": "vakvKGs8WbSV",
    "outputId": "3f2934f5-0eff-44ca-a859-9349ab885c95"
   },
   "outputs": [
    {
     "data": {
      "text/plain": [
       "[500, 490, 480, 470, 460, 450, 440, 430, 420, 410]"
      ]
     },
     "execution_count": 9,
     "metadata": {
      "tags": []
     },
     "output_type": "execute_result"
    }
   ],
   "source": [
    "#print range of numbers from 500 to 400 with step size of -10\n",
    "\n",
    "list1 =list(range(500,400,-10))\n",
    "list1"
   ]
  },
  {
   "cell_type": "code",
   "execution_count": null,
   "metadata": {
    "id": "YUfwng7DWbSY",
    "outputId": "30c35fa3-63fd-44fb-d1e9-d16de29cbd1f"
   },
   "outputs": [
    {
     "name": "stdout",
     "output_type": "stream",
     "text": [
      "2\n",
      "3\n",
      "4\n",
      "5\n",
      "6\n",
      "7\n",
      "8\n",
      "9\n",
      "10\n",
      "11\n"
     ]
    }
   ],
   "source": [
    "#print range of 10\n",
    "for i in range(10):\n",
    "    print(i+2)"
   ]
  },
  {
   "cell_type": "markdown",
   "metadata": {
    "id": "8b_qPNvLWbSa"
   },
   "source": [
    "## Printing Datafolkz 10 times"
   ]
  },
  {
   "cell_type": "code",
   "execution_count": null,
   "metadata": {
    "id": "A8OdG5ECWbSa",
    "outputId": "92eda887-d87d-433f-ea7a-3b0f1901b232"
   },
   "outputs": [
    {
     "name": "stdout",
     "output_type": "stream",
     "text": [
      "0\n",
      "Datafolkz\n",
      "1\n",
      "Datafolkz\n",
      "2\n",
      "Datafolkz\n",
      "3\n",
      "Datafolkz\n",
      "4\n",
      "Datafolkz\n",
      "5\n",
      "Datafolkz\n",
      "6\n",
      "Datafolkz\n",
      "7\n",
      "Datafolkz\n",
      "8\n",
      "Datafolkz\n",
      "9\n",
      "Datafolkz\n",
      "out of the loop\n"
     ]
    }
   ],
   "source": [
    "for i in range(10):\n",
    "    print(i)              # Statement ( Loop for the IF Statement)\n",
    "    print('Datafolkz')\n",
    "    \n",
    "print('out of the loop')  # out of loop "
   ]
  },
  {
   "cell_type": "code",
   "execution_count": null,
   "metadata": {
    "id": "R2kXNnsnWbSd",
    "outputId": "4d50b9ca-8579-4e12-9685-d67adbbfa18c"
   },
   "outputs": [
    {
     "name": "stdout",
     "output_type": "stream",
     "text": [
      "Data\n",
      "Folkz\n",
      "Python\n",
      "DataScience\n",
      "AI\n"
     ]
    }
   ],
   "source": [
    "lst = [\"Data\", \"Folkz\", \"Python\", \"DataScience\", \"AI\"]\n",
    "\n",
    "for ele in lst:\n",
    "    print(ele)"
   ]
  },
  {
   "cell_type": "markdown",
   "metadata": {
    "id": "O-cK3Y-wWbSf"
   },
   "source": [
    "- iterate over the list using index\n",
    "- for index in range(len(lst)):\n",
    "- print(lst[index])\n"
   ]
  },
  {
   "cell_type": "code",
   "execution_count": null,
   "metadata": {
    "id": "6QBdlZA9WbSg",
    "outputId": "828e606c-395f-4f01-f421-ec3491340bfc"
   },
   "outputs": [
    {
     "name": "stdout",
     "output_type": "stream",
     "text": [
      "Data\n",
      "Folkz\n",
      "Python\n",
      "DataScience\n",
      "AI\n"
     ]
    }
   ],
   "source": [
    "lst = [\"Data\", \"Folkz\", \"Python\", \"DataScience\", \"AI\"]\n",
    "for index in range(len(lst)):\n",
    "    print(lst[index])"
   ]
  },
  {
   "cell_type": "code",
   "execution_count": null,
   "metadata": {
    "id": "CX-Mrat8WbSj",
    "outputId": "2fbc7226-b3c3-4e85-b004-f54478796bd3"
   },
   "outputs": [
    {
     "name": "stdout",
     "output_type": "stream",
     "text": [
      "0 - Data\n",
      "1 - Folkz\n",
      "2 - Python\n",
      "3 - DataScience\n",
      "4 - AI\n"
     ]
    }
   ],
   "source": [
    "lst = [\"Data\", \"Folkz\", \"Python\", \"DataScience\", \"AI\"]\n",
    "for i in range(len(lst)):\n",
    "    print(i,'-',lst[i])"
   ]
  },
  {
   "cell_type": "markdown",
   "metadata": {
    "id": "J-X3JZcvWbSm"
   },
   "source": [
    "#### Generate 10 random number in the range of  0 to 30"
   ]
  },
  {
   "cell_type": "code",
   "execution_count": null,
   "metadata": {
    "id": "3m7oyUTxWbSm",
    "outputId": "c61c85a6-2273-47c2-d178-47d564d5ffd8"
   },
   "outputs": [
    {
     "name": "stdout",
     "output_type": "stream",
     "text": [
      "<class 'list'>\n",
      "Intial list = []\n",
      "\n",
      "\n",
      "Iter 0 , list = [9] \n",
      "\n",
      "Iter 1 , list = [9, 8] \n",
      "\n",
      "Iter 2 , list = [9, 8, 23] \n",
      "\n",
      "Iter 3 , list = [9, 8, 23, 17] \n",
      "\n",
      "Iter 4 , list = [9, 8, 23, 17, 16] \n",
      "\n",
      "Iter 5 , list = [9, 8, 23, 17, 16, 27] \n",
      "\n",
      "Iter 6 , list = [9, 8, 23, 17, 16, 27, 18] \n",
      "\n",
      "Iter 7 , list = [9, 8, 23, 17, 16, 27, 18, 19] \n",
      "\n",
      "Iter 8 , list = [9, 8, 23, 17, 16, 27, 18, 19, 26] \n",
      "\n",
      "Iter 9 , list = [9, 8, 23, 17, 16, 27, 18, 19, 26, 26] \n",
      "\n",
      "--------------------------------------------------\n",
      "After the loop = [9, 8, 23, 17, 16, 27, 18, 19, 26, 26]\n"
     ]
    }
   ],
   "source": [
    "import random\n",
    "randl = []\n",
    "print(type(randl))\n",
    "\n",
    "print('Intial list =', randl)\n",
    "print('\\n')\n",
    "for i in range(10):\n",
    "   \n",
    "    randl.append(random.randint(0,30))\n",
    "    print('Iter {} , list = {}'.format(i,randl),'\\n')\n",
    "    \n",
    "print(\"-\" * 50)\n",
    "print('After the loop =',randl)"
   ]
  },
  {
   "cell_type": "markdown",
   "metadata": {
    "id": "bRUioXG7WbSq"
   },
   "source": [
    "## Find product of all numbers present in a list using for loop"
   ]
  },
  {
   "cell_type": "code",
   "execution_count": null,
   "metadata": {
    "id": "v-w9bH1UWbSq",
    "outputId": "71a2677a-45a2-4667-9e7e-3a012e24bbca"
   },
   "outputs": [
    {
     "name": "stdout",
     "output_type": "stream",
     "text": [
      "current indexing value in  10 \n",
      "\n",
      "current product value at this ele is : 1\n",
      "current product after multiplying with each ele: 10 \n",
      "\n",
      "--------------------------------------------------\n",
      "current indexing value in  20 \n",
      "\n",
      "current product value at this ele is : 10\n",
      "current product after multiplying with each ele: 200 \n",
      "\n",
      "--------------------------------------------------\n",
      "current indexing value in  30 \n",
      "\n",
      "current product value at this ele is : 200\n",
      "current product after multiplying with each ele: 6000 \n",
      "\n",
      "--------------------------------------------------\n",
      "current indexing value in  40 \n",
      "\n",
      "current product value at this ele is : 6000\n",
      "current product after multiplying with each ele: 240000 \n",
      "\n",
      "--------------------------------------------------\n",
      "current indexing value in  50 \n",
      "\n",
      "current product value at this ele is : 240000\n",
      "current product after multiplying with each ele: 12000000 \n",
      "\n",
      "--------------------------------------------------\n",
      " final Product is: 12000000\n"
     ]
    }
   ],
   "source": [
    "#Find product of all numbers present in a list\n",
    "\n",
    "lst = [10, 20, 30, 40, 50]\n",
    "\n",
    "product = 1\n",
    "\n",
    "#iterating over the list\n",
    "for ele in lst:\n",
    "    print(\"current indexing value in \", ele, '\\n')\n",
    "    print(\"current product value at this ele is :\",product)\n",
    "    product *= ele #  multiply product * ele( iterate each index value of list \"lst\")\n",
    "    \n",
    "    print(\"current product after multiplying with each ele:\", product, '\\n')\n",
    "    \n",
    "    print(\"-\"*50)\n",
    "\n",
    "print(\" final Product is: {}\".format(product))"
   ]
  },
  {
   "cell_type": "code",
   "execution_count": null,
   "metadata": {
    "id": "kDFj0XOiWbSs",
    "outputId": "c596bec6-63a6-4488-d48a-f9f3d01a9520"
   },
   "outputs": [
    {
     "name": "stdout",
     "output_type": "stream",
     "text": [
      "0\n",
      "10\n",
      "20\n",
      "30\n",
      "40\n",
      "50\n",
      "60\n",
      "70\n",
      "80\n",
      "90\n"
     ]
    }
   ],
   "source": [
    "#print range of numbers from 1 to 20 with step size of 5\n",
    "for i in range(0, 100, 10):\n",
    "    print(i)"
   ]
  },
  {
   "cell_type": "markdown",
   "metadata": {
    "id": "vBNls9XiWbSv"
   },
   "source": [
    "## For loop with else"
   ]
  },
  {
   "cell_type": "markdown",
   "metadata": {
    "id": "7B7kCHfxWbSv"
   },
   "source": [
    "A for loop can have an optional else block as well. The else part is executed if the items in the sequence used in for loop exhausts.\n",
    "\n",
    "Break statement can be used to stop a for loop. In such case, the else part is ignored.\n",
    "\n",
    "Hence, a for loop's else part runs if no break occurs."
   ]
  },
  {
   "cell_type": "code",
   "execution_count": null,
   "metadata": {
    "id": "9OeQfWbsWbSz",
    "outputId": "00985a3a-ef57-4fd9-f0f3-2fc78c13745d"
   },
   "outputs": [
    {
     "name": "stdout",
     "output_type": "stream",
     "text": [
      "1\n",
      "2\n",
      "3\n",
      "no item left in the list\n"
     ]
    }
   ],
   "source": [
    "numbers = [1, 2, 3]\n",
    "\n",
    "#iterating over the list\n",
    "for item in numbers:\n",
    "    print(item)\n",
    "else:\n",
    "    print(\"no item left in the list\")"
   ]
  },
  {
   "cell_type": "code",
   "execution_count": null,
   "metadata": {
    "id": "xyp0C4aGWbS1",
    "outputId": "2103102e-6d19-4790-b5e2-1af6c8ef38e0"
   },
   "outputs": [
    {
     "name": "stdout",
     "output_type": "stream",
     "text": [
      "1\n",
      "2\n"
     ]
    }
   ],
   "source": [
    "for item in numbers:\n",
    "    print(item)\n",
    "    if item % 2 == 0:\n",
    "        break\n",
    "else:\n",
    "    print(\"no item left in the list\")"
   ]
  },
  {
   "cell_type": "markdown",
   "metadata": {
    "id": "M5QEzxxMWbS3"
   },
   "source": [
    "## Python Program to display all prime numbers within an interval"
   ]
  },
  {
   "cell_type": "code",
   "execution_count": null,
   "metadata": {
    "id": "eOZueJQ_WbS3",
    "outputId": "242b7ed3-c0d0-4dff-b80a-f9aa9f6bd9f4"
   },
   "outputs": [
    {
     "name": "stdout",
     "output_type": "stream",
     "text": [
      "Enter Index1 number: 23\n",
      "Enter Index2 number: 46\n",
      "Prime numbers between 23 and 46 are :\n",
      "23\n",
      "29\n",
      "31\n",
      "37\n",
      "41\n",
      "43\n"
     ]
    }
   ],
   "source": [
    "index1 = int(input(\"Enter Index1 number: \"))\n",
    "index2 = int(input(\"Enter Index2 number: \"))\n",
    "\n",
    "print(\"Prime numbers between {0} and {1} are :\".format(index1, index2))\n",
    "\n",
    "for num in range(index1, index2+1):      #default step size is 1\n",
    "    if num > 1:\n",
    "        isDivisible = False;\n",
    "        for index in range(2, num):\n",
    "            if num % index == 0:\n",
    "                isDivisible = True;\n",
    "        if not isDivisible:        \n",
    "            print(num);\n",
    "    "
   ]
  },
  {
   "cell_type": "markdown",
   "metadata": {
    "id": "8PUgbtPBWbS6"
   },
   "source": [
    "#### Find list of words\n",
    "- starts with 'e' in text\n",
    "- ends with 'e'\n",
    "- starts with 'd'"
   ]
  },
  {
   "cell_type": "code",
   "execution_count": null,
   "metadata": {
    "id": "hJ09NpfDWbS7",
    "outputId": "aac81d5f-3b66-43f7-ab89-ecb19f51283b"
   },
   "outputs": [
    {
     "name": "stdout",
     "output_type": "stream",
     "text": [
      "Data Science is a process of extracting knowledge from the data, \n",
      "which has several process like data preparation, analysis and modelling.\n",
      "Data Preparation takes 70% of data science project rest is all about analysis and modelling.\n"
     ]
    }
   ],
   "source": [
    "text = \"\"\"Data Science is a process of extracting knowledge from the data, \n",
    "which has several process like data preparation, analysis and modelling.\n",
    "Data Preparation takes 70% of data science project rest is all about analysis and modelling.\"\"\"\n",
    "print(text)"
   ]
  },
  {
   "cell_type": "code",
   "execution_count": null,
   "metadata": {
    "id": "G63fptQCWbS9",
    "outputId": "3fdac492-2413-4bbe-c17f-ff0cfb983de1"
   },
   "outputs": [
    {
     "name": "stdout",
     "output_type": "stream",
     "text": [
      "['data', 'science', 'is', 'a', 'process', 'of', 'extracting', 'knowledge', 'from', 'the', 'data,', 'which', 'has', 'several', 'process', 'like', 'data', 'preparation,', 'analysis', 'and', 'modelling.', 'data', 'preparation', 'takes', '70%', 'of', 'data', 'science', 'project', 'rest', 'is', 'all', 'about', 'analysis', 'and', 'modelling.']\n"
     ]
    }
   ],
   "source": [
    "# step -1: Splitting Text into Tokens/words by using split function\n",
    "text = text.lower()\n",
    "tokens  = text.split()\n",
    "print(tokens)"
   ]
  },
  {
   "cell_type": "code",
   "execution_count": null,
   "metadata": {
    "id": "LSbHMZGLWbS_",
    "outputId": "a7cc3e0b-18f7-4f82-ab21-33c4c8deb0f3"
   },
   "outputs": [
    {
     "data": {
      "text/plain": [
       "['extracting']"
      ]
     },
     "execution_count": 4,
     "metadata": {
      "tags": []
     },
     "output_type": "execute_result"
    }
   ],
   "source": [
    "# list of words starts with 'e'\n",
    "start_e = []\n",
    "for words in tokens:\n",
    "    if words.startswith('e'):\n",
    "        start_e.append(words)\n",
    "start_e       "
   ]
  },
  {
   "cell_type": "code",
   "execution_count": null,
   "metadata": {
    "id": "G8QC9otNWbTB",
    "outputId": "8a242ead-0876-42ac-fd63-7a6ba2a173bf"
   },
   "outputs": [
    {
     "data": {
      "text/plain": [
       "['science', 'knowledge', 'the', 'like', 'science']"
      ]
     },
     "execution_count": 5,
     "metadata": {
      "tags": []
     },
     "output_type": "execute_result"
    }
   ],
   "source": [
    "# list of words ends with 'e'\n",
    "end_e = []\n",
    "for words in tokens:\n",
    "    if words.endswith('e'):\n",
    "        end_e.append(words)\n",
    "end_e"
   ]
  },
  {
   "cell_type": "code",
   "execution_count": null,
   "metadata": {
    "id": "E8B6QlPjWbTD",
    "outputId": "613731e5-508a-415c-f20c-c710e1c377f7"
   },
   "outputs": [
    {
     "data": {
      "text/plain": [
       "['data', 'data,', 'data', 'data', 'data']"
      ]
     },
     "execution_count": 6,
     "metadata": {
      "tags": []
     },
     "output_type": "execute_result"
    }
   ],
   "source": [
    "# list of words starts with 'd'\n",
    "start_d = []\n",
    "for words in tokens:\n",
    "    if words.startswith('d'):\n",
    "        start_d.append(words)\n",
    "\n",
    "(start_d)"
   ]
  },
  {
   "cell_type": "markdown",
   "metadata": {
    "id": "vPfuM9UAWbTH"
   },
   "source": [
    "#### Print the words until word process in tokens List  If you find word 'process' in tokens List , break the loop. "
   ]
  },
  {
   "cell_type": "code",
   "execution_count": null,
   "metadata": {
    "id": "8tLqT3oeWbTH",
    "outputId": "7cbbf323-40b6-4fce-f857-efdf28611257"
   },
   "outputs": [
    {
     "name": "stdout",
     "output_type": "stream",
     "text": [
      "data\n",
      "science\n",
      "is\n",
      "a\n",
      "process\n",
      "of\n",
      "extracting\n",
      "knowledge\n",
      "from\n",
      "the\n",
      "data,\n",
      "which\n",
      "has\n",
      "several\n",
      "process\n",
      "like\n"
     ]
    }
   ],
   "source": [
    "for words in tokens:\n",
    "    print(words)\n",
    "    if words == 'like':\n",
    "        break"
   ]
  },
  {
   "cell_type": "markdown",
   "metadata": {
    "id": "z9D7d7sBWbTJ"
   },
   "source": [
    "## Creating 100 random numbers using random  fucntion with for loop"
   ]
  },
  {
   "cell_type": "code",
   "execution_count": null,
   "metadata": {
    "id": "-o7ZBnnnWbTL",
    "outputId": "4d3fadaf-16cc-4cd3-a324-0f7763b3c2fb"
   },
   "outputs": [
    {
     "name": "stdout",
     "output_type": "stream",
     "text": [
      "[69, 50, 93, 55, 100, 38, 88, 89, 46, 58, 54, 45, 68, 28, 18, 10, 93, 9, 59, 8, 35, 64, 39, 100, 46, 55, 83, 64, 37, 7, 76, 83, 68, 54, 26, 31, 92, 76, 32, 14, 79, 8, 98, 98, 43, 83, 56, 24, 89, 64, 49, 78, 53, 60, 97, 99, 64, 52, 93, 67, 11, 50, 56, 77, 43, 2, 25, 9, 25, 41, 76, 1, 25, 60, 45, 23, 66, 44, 23, 94, 37, 52, 37, 68, 18, 33, 19, 21, 87, 91, 41, 76, 50, 21, 65, 42, 62, 2, 5, 40]\n"
     ]
    }
   ],
   "source": [
    "import random\n",
    "rand = []\n",
    "for i in range(100):\n",
    "    num = random.randint(0,100)\n",
    "    rand.append(num)\n",
    "    \n",
    "print(rand)"
   ]
  },
  {
   "cell_type": "markdown",
   "metadata": {
    "id": "H7jrvscYWbTN"
   },
   "source": [
    "## Find and create a list of even number in rand\n"
   ]
  },
  {
   "cell_type": "code",
   "execution_count": null,
   "metadata": {
    "id": "-EjM7nOUWbTN",
    "outputId": "f8956a60-9a76-4628-c2a7-55977efc5145"
   },
   "outputs": [
    {
     "name": "stdout",
     "output_type": "stream",
     "text": [
      "Even number are :\n",
      " [50, 100, 38, 88, 46, 58, 54, 68, 28, 18, 10, 8, 64, 100, 46, 64, 76, 68, 54, 26, 92, 76, 32, 14, 8, 98, 98, 56, 24, 64, 78, 60, 64, 52, 50, 56, 2, 76, 60, 66, 44, 94, 52, 68, 18, 76, 50, 42, 62, 2, 40]\n",
      "===============================================================================\n"
     ]
    }
   ],
   "source": [
    "# even number\n",
    "import random\n",
    "even = []\n",
    "for i in rand:\n",
    "    if i != 0:\n",
    "        if i %2 == 0:\n",
    "            even.append(i)\n",
    "print('Even number are :\\n',even)\n",
    "print('='*79)\n"
   ]
  },
  {
   "cell_type": "markdown",
   "metadata": {
    "id": "64JapweBWbTP"
   },
   "source": [
    "## Find and create a list of number divisible by 5 in rand"
   ]
  },
  {
   "cell_type": "code",
   "execution_count": null,
   "metadata": {
    "id": "gjN-6oPCWbTQ",
    "outputId": "a3e9b518-d77f-4163-b9b8-083cd3c02a45"
   },
   "outputs": [
    {
     "name": "stdout",
     "output_type": "stream",
     "text": [
      "Divisible by 5 number are :\n",
      " [50, 55, 100, 45, 10, 35, 100, 55, 60, 50, 25, 25, 25, 60, 45, 50, 65, 5, 40]\n",
      "===============================================================================\n"
     ]
    }
   ],
   "source": [
    "# divisible by 5\n",
    "div5 = []\n",
    "for i in rand:\n",
    "    if i != 0:\n",
    "        if i %5 == 0:\n",
    "            div5.append(i)\n",
    "print('Divisible by 5 number are :\\n',div5)\n",
    "print('='*79)"
   ]
  },
  {
   "cell_type": "code",
   "execution_count": null,
   "metadata": {
    "id": "s1EH0M7xWbTS",
    "outputId": "2b4d26d4-7781-429f-f7b7-d279d8f4e2eb"
   },
   "outputs": [
    {
     "name": "stdout",
     "output_type": "stream",
     "text": [
      "Got key apples which maps to value 430\n",
      "Got key bananas which maps to value 312\n",
      "Got key oranges which maps to value 525\n",
      "Got key pears which maps to value 217\n",
      "************************************************** \n",
      "\n",
      "['apples', 'bananas', 'oranges', 'pears']\n"
     ]
    }
   ],
   "source": [
    "# Using Dictionary in for loop\n",
    "\n",
    "inventory = {'apples': 430, 'bananas': 312, 'oranges': 525, 'pears': 217}\n",
    "\n",
    "for akey in inventory.keys():     # the order in which we get the keys is not defined\n",
    "    print(\"Got key\", akey, \"which maps to value\", inventory[akey])\n",
    "print('*'*50,'\\n')\n",
    "ks = list(inventory.keys())\n",
    "print(ks)\n"
   ]
  },
  {
   "cell_type": "code",
   "execution_count": null,
   "metadata": {
    "id": "nneBouDBWbTU",
    "outputId": "11f20922-919e-4e55-8ec9-31ef7c66fbf5"
   },
   "outputs": [
    {
     "name": "stdout",
     "output_type": "stream",
     "text": [
      "values:\n",
      "[430, 312, 525, 217]\n",
      "************************************************** \n",
      "\n",
      "Items:\n",
      "[('apples', 430), ('bananas', 312), ('oranges', 525), ('pears', 217)]\n",
      "************************************************** \n",
      "\n",
      "Got apples that maps to 430\n",
      "Got bananas that maps to 312\n",
      "Got oranges that maps to 525\n",
      "Got pears that maps to 217\n",
      "************************************************** \n",
      "\n",
      "Got apples that maps to 430\n",
      "Got bananas that maps to 312\n",
      "Got oranges that maps to 525\n",
      "Got pears that maps to 217\n",
      "************************************************** \n",
      "\n"
     ]
    }
   ],
   "source": [
    "inventory = {'apples': 430, 'bananas': 312, 'oranges': 525, 'pears': 217}\n",
    "\n",
    "print('values:')\n",
    "print(list(inventory.values()))\n",
    "print('*'*50,'\\n')\n",
    "print('Items:')\n",
    "print(list(inventory.items()))\n",
    "print('*'*50,'\\n')\n",
    "\n",
    "for (k,v) in inventory.items():\n",
    "    print(\"Got\", k, \"that maps to\", v)\n",
    "print('*'*50,'\\n')\n",
    "for k in inventory:\n",
    "    print(\"Got\", k, \"that maps to\", inventory[k])\n",
    "print('*'*50,'\\n')"
   ]
  },
  {
   "cell_type": "markdown",
   "metadata": {
    "id": "3BgY6sSeWbTW"
   },
   "source": [
    "## while Loop"
   ]
  },
  {
   "cell_type": "markdown",
   "metadata": {
    "id": "ZjdCd2B2WbTW"
   },
   "source": [
    "The **while** loop in Python is used to iterate over a block of code as long as the test expression (condition) is true."
   ]
  },
  {
   "cell_type": "markdown",
   "metadata": {
    "id": "ydKVo5YqWbTX"
   },
   "source": [
    "## Syntax:"
   ]
  },
  {
   "cell_type": "markdown",
   "metadata": {
    "id": "Og_60uwtWbTX"
   },
   "source": [
    "    while test_expression:\n",
    "        \n",
    "        Body of while Loop"
   ]
  },
  {
   "cell_type": "code",
   "execution_count": null,
   "metadata": {
    "id": "GD7CEQx-WbTY"
   },
   "outputs": [],
   "source": [
    "The body of the loop is entered only if the test_expression evaluates to True. \n",
    "\n",
    "After one iteration, the test expression is checked again. \n",
    "\n",
    "This process continues until the test_expression evaluates to False."
   ]
  },
  {
   "cell_type": "markdown",
   "metadata": {
    "id": "nBXxWUc-WbTa"
   },
   "source": [
    "## Flow Chart"
   ]
  },
  {
   "cell_type": "markdown",
   "metadata": {
    "id": "hr_w2QN3WbTa"
   },
   "source": [
    "![image.png](attachment:image.png)"
   ]
  },
  {
   "cell_type": "markdown",
   "metadata": {
    "id": "xgehPIgkWbTb"
   },
   "source": [
    "## Example"
   ]
  },
  {
   "cell_type": "code",
   "execution_count": null,
   "metadata": {
    "id": "N4YEnDwAWbTb",
    "outputId": "1211be8c-91d2-41c8-f104-d2a244df1dfd"
   },
   "outputs": [
    {
     "name": "stdout",
     "output_type": "stream",
     "text": [
      "I am a while loop\n"
     ]
    }
   ],
   "source": [
    "loop_condition = True\n",
    "\n",
    "while loop_condition:\n",
    "  print(\"I am a while loop\")\n",
    "  loop_condition = False"
   ]
  },
  {
   "cell_type": "markdown",
   "metadata": {
    "id": "rnUZBvzcWbTe"
   },
   "source": [
    "## Lets check the difference between If and While "
   ]
  },
  {
   "cell_type": "code",
   "execution_count": null,
   "metadata": {
    "id": "YQa315cfWbTf",
    "outputId": "7668faad-1b23-4cb8-d2eb-492ab15c9161"
   },
   "outputs": [
    {
     "name": "stdout",
     "output_type": "stream",
     "text": [
      "Hello, I am an if statement and count is 0 \n",
      "\n",
      "current count is: 1 \n",
      "\n",
      "*****If loop is over*****\n",
      "\n",
      "Hello, I am a while and count is 1 \n",
      "\n",
      "Hello, I am a while and count is 2 \n",
      "\n",
      "Hello, I am a while and count is 3 \n",
      "\n",
      "Hello, I am a while and count is 4 \n",
      "\n",
      "*****While loop is over*****\n",
      "\n"
     ]
    }
   ],
   "source": [
    "count = 0\n",
    "\n",
    "if count < 5:\n",
    "    \n",
    "    print(\"Hello, I am an if statement and count is\", count,'\\n')\n",
    "    count += 1\n",
    "    print(\"current count is:\", count,'\\n')\n",
    "    print('*****If loop is over*****\\n')\n",
    "\n",
    "while count < 5:\n",
    "    print(\"Hello, I am a while and count is\", count,'\\n')\n",
    "    count += 1 # count = count + 1\n",
    "print('*****While loop is over*****\\n')"
   ]
  },
  {
   "cell_type": "markdown",
   "metadata": {
    "id": "IgxI0R5ZWbTh"
   },
   "source": [
    "### The break is a one-line statement that means  ''Exit the current loop\""
   ]
  },
  {
   "cell_type": "code",
   "execution_count": null,
   "metadata": {
    "id": "ypEKbqRqWbTh",
    "outputId": "d8d766f2-1d8b-4391-e199-b64c437e01a1"
   },
   "outputs": [
    {
     "name": "stdout",
     "output_type": "stream",
     "text": [
      "0\n",
      "current count is 1 \n",
      "\n",
      "--------------------------------------------------\n",
      "1\n",
      "current count is 2 \n",
      "\n",
      "--------------------------------------------------\n",
      "2\n",
      "current count is 3 \n",
      "\n",
      "--------------------------------------------------\n",
      "3\n",
      "current count is 4 \n",
      "\n",
      "--------------------------------------------------\n",
      "4\n",
      "current count is 5 \n",
      "\n",
      "--------------------------------------------------\n",
      "5\n",
      "current count is 6 \n",
      "\n",
      "--------------------------------------------------\n",
      "6\n",
      "current count is 7 \n",
      "\n",
      "--------------------------------------------------\n",
      "7\n",
      "current count is 8 \n",
      "\n",
      "--------------------------------------------------\n",
      "8\n",
      "current count is 9 \n",
      "\n",
      "--------------------------------------------------\n",
      "9\n",
      "current count is 10 \n",
      "\n",
      "--------------------------------------------------\n"
     ]
    }
   ],
   "source": [
    "count = 0\n",
    "\n",
    "while True:\n",
    "    print(count)\n",
    "    count += 1\n",
    "    print(\"current count is\", count, '\\n')\n",
    "    print(\"-\"*50)\n",
    "    if count >= 10:\n",
    "        break       # Do not remove break"
   ]
  },
  {
   "cell_type": "markdown",
   "metadata": {
    "id": "O-amBog8WbTj"
   },
   "source": [
    "### Find product of all numbers present in a list"
   ]
  },
  {
   "cell_type": "code",
   "execution_count": null,
   "metadata": {
    "id": "8COPNq5YWbTj",
    "outputId": "4731a3f6-7e9e-4e0e-8008-29a88796652b"
   },
   "outputs": [
    {
     "name": "stdout",
     "output_type": "stream",
     "text": [
      "length of the index is: 5 \n",
      "\n",
      "each indexing value are: 10 \n",
      "\n",
      "product value 10 \n",
      "\n",
      "current indexing possition is 1 \n",
      "\n",
      "---------------------------------------------\n",
      "length of the index is: 5 \n",
      "\n",
      "each indexing value are: 20 \n",
      "\n",
      "product value 200 \n",
      "\n",
      "current indexing possition is 2 \n",
      "\n",
      "---------------------------------------------\n",
      "length of the index is: 5 \n",
      "\n",
      "each indexing value are: 30 \n",
      "\n",
      "product value 6000 \n",
      "\n",
      "current indexing possition is 3 \n",
      "\n",
      "---------------------------------------------\n",
      "length of the index is: 5 \n",
      "\n",
      "each indexing value are: 40 \n",
      "\n",
      "product value 240000 \n",
      "\n",
      "current indexing possition is 4 \n",
      "\n",
      "---------------------------------------------\n",
      "length of the index is: 5 \n",
      "\n",
      "each indexing value are: 60 \n",
      "\n",
      "product value 14400000 \n",
      "\n",
      "current indexing possition is 5 \n",
      "\n",
      "---------------------------------------------\n",
      "Product is: 14400000\n"
     ]
    }
   ],
   "source": [
    "lst = [10, 20, 30, 40, 60]\n",
    "\n",
    "product = 1\n",
    "index = 0\n",
    "\n",
    "while index < len(lst):\n",
    "    print(\"length of the index is:\",len(lst), '\\n')\n",
    "    print(\"each indexing value are:\",lst[index], '\\n')\n",
    "    product *= lst[index]\n",
    "    print(\"product value\",product, '\\n')\n",
    "    index += 1\n",
    "    print(\"current indexing possition is\",index, '\\n')\n",
    "    print(\"-\"*45)\n",
    "\n",
    "print(\"Product is: {}\".format(product))"
   ]
  },
  {
   "cell_type": "markdown",
   "metadata": {
    "id": "YBANkiGgWbTl"
   },
   "source": [
    "## while Loop with else"
   ]
  },
  {
   "cell_type": "markdown",
   "metadata": {
    "id": "cnpo8cQoWbTl"
   },
   "source": [
    "Same as that of for loop, we can have an optional else block with while loop as well.\n",
    "\n",
    "The else part is executed if the condition in the while loop evaluates to False. The while loop can be terminated with a break statement.\n",
    "\n",
    "In such case, the else part is ignored. Hence, a while loop's else part runs if no break occurs and the condition is false.\n"
   ]
  },
  {
   "cell_type": "code",
   "execution_count": null,
   "metadata": {
    "id": "mTQm1yELWbTl",
    "outputId": "078e7552-fd49-4ebd-fa2c-1544b88d813f"
   },
   "outputs": [
    {
     "name": "stdout",
     "output_type": "stream",
     "text": [
      "10\n",
      "curent indexing: 1\n",
      "20\n",
      "curent indexing: 2\n",
      "30\n",
      "curent indexing: 3\n",
      "40\n",
      "curent indexing: 4\n",
      "50\n",
      "curent indexing: 5\n",
      "\n",
      "no item left in the list\n"
     ]
    }
   ],
   "source": [
    "numbers = [10, 20, 30,40,50]\n",
    "\n",
    "#iterating over the list\n",
    "\n",
    "index = 0\n",
    "while index < len(numbers):  #Checking the length \n",
    "    print(numbers[index])\n",
    "    index += 1\n",
    "    print(\"curent indexing:\", index)\n",
    "    \n",
    "else:\n",
    "    print(\"\\nno item left in the list\")"
   ]
  },
  {
   "cell_type": "markdown",
   "metadata": {
    "id": "nkdfUAF4WbTn"
   },
   "source": [
    "## Python Program to check given number is Prime number or not"
   ]
  },
  {
   "cell_type": "code",
   "execution_count": null,
   "metadata": {
    "id": "5zMjAfugWbTn",
    "outputId": "928c392f-7b20-4130-d098-74d13ce2d05a"
   },
   "outputs": [
    {
     "name": "stdout",
     "output_type": "stream",
     "text": [
      "Enter a number: 40\n",
      "40 is divisible by 2\n",
      "40 is divisible by 4\n",
      "40 is divisible by 5\n",
      "40 is divisible by 8\n",
      "40 is divisible by 10\n",
      "40 is divisible by 20\n",
      "40 is Not a Prime number\n"
     ]
    }
   ],
   "source": [
    "num = int(input(\"Enter a number: \")) \n",
    "#convert string to int\n",
    "isDivisible = False;\n",
    "i=2;\n",
    "while i < num:\n",
    "    if num % i == 0:\n",
    "        isDivisible = True;\n",
    "        print (\"{} is divisible by {}\".format(num,i) )\n",
    "    i += 1;\n",
    "    \n",
    "if isDivisible:\n",
    "    print(\"{} is Not a Prime number\".format(num))\n",
    "    \n",
    "else:\n",
    "    print(\"{} is a Prime number\".format(num))"
   ]
  },
  {
   "cell_type": "markdown",
   "metadata": {
    "id": "awOgqjS0WbTo"
   },
   "source": [
    "## Note:"
   ]
  },
  {
   "cell_type": "code",
   "execution_count": null,
   "metadata": {
    "id": "lfsxRRMkWbTp"
   },
   "outputs": [],
   "source": []
  }
 ],
 "metadata": {
  "colab": {
   "name": "Conditional Statements in Python 2 (1).ipynb",
   "provenance": []
  },
  "kernelspec": {
   "display_name": "Python 3",
   "language": "python",
   "name": "python3"
  },
  "language_info": {
   "codemirror_mode": {
    "name": "ipython",
    "version": 3
   },
   "file_extension": ".py",
   "mimetype": "text/x-python",
   "name": "python",
   "nbconvert_exporter": "python",
   "pygments_lexer": "ipython3",
   "version": "3.8.3"
  }
 },
 "nbformat": 4,
 "nbformat_minor": 1
}
